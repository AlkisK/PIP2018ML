{
 "cells": [
  {
   "cell_type": "markdown",
   "metadata": {},
   "source": [
    "# Physics and Chemistry Class"
   ]
  },
  {
   "cell_type": "code",
   "execution_count": 1,
   "metadata": {},
   "outputs": [
    {
     "name": "stdout",
     "output_type": "stream",
     "text": [
      "42\n"
     ]
    }
   ],
   "source": [
    "print(42)"
   ]
  },
  {
   "cell_type": "markdown",
   "metadata": {},
   "source": [
    "$$TiO_{2}$$\n",
    "Inorganic Crystals database : ICDB \n",
    "\n",
    "https://materialsproject.org/ \n",
    "\n",
    "Relative stability using Convex Hull. \n",
    "\n",
    "DFT prediction : You square and then take the square root in order to get rid of the negative signs.\n",
    "\n"
   ]
  },
  {
   "cell_type": "markdown",
   "metadata": {},
   "source": [
    "# Unsupervised Learning\n",
    "\n",
    "k-means is Equiv. to Voronoi.\n",
    "\n",
    "# Supervised Learning\n",
    "1) Classification (Discrete)\n",
    "\n",
    "2) Regression (Continuous) (Neural Nets, Kernel methods)\n",
    "\n"
   ]
  },
  {
   "cell_type": "markdown",
   "metadata": {},
   "source": [
    "Fingerprinting : In regression, use suitable atomistics descriptors :\n",
    "\n",
    "ML models with 2-body terms (distance) + 3-body (angles) + Many-body (all neighbours within a cutoff).\n",
    "\n",
    "$$q^{(3b)} = (r_{12} + r_{13}, (r_{12}-r_{13})^{2} , r_{23})^{T}$$\n",
    "\n",
    "For many bodies : SOAP : Smooth Overlap of Atomic Positions.\n",
    "\n",
    "https://arxiv.org/pdf/1502.01366.pdf \n",
    "\n",
    "https://arxiv.org/pdf/1209.3140.pdf%3B\n",
    "\n",
    "https://analytics-toolkit.nomad-coe.eu/home/\n",
    "\n"
   ]
  },
  {
   "cell_type": "markdown",
   "metadata": {},
   "source": [
    "Day 3 :\n",
    "Gaussian Approximation Potentials\n",
    "\n",
    "https://arxiv.org/pdf/1706.10229.pdf\n",
    "\n",
    "Underfitting : Too low flexibility (too few basis functions), low accuracy overall.\n",
    "\n",
    "Overfitting : Model is perfeclty adapted to input values but incorrectly in between.\n",
    "\n",
    "How to detect over fitting? Use a separate test set.\n",
    "\n",
    "k-fold cross validation : Test all input values individually.\n",
    "\n",
    "https://www.cambridge.org/core/journals/mrs-bulletin/article/harnessing-the-materials-project-for-machinelearning-and-accelerated-discovery/BC99FBBDBDE5589E8AAAD15739D164EB\n",
    "\n",
    "https://www.nature.com/articles/s41524-017-0056-5\n"
   ]
  }
 ],
 "metadata": {
  "kernelspec": {
   "display_name": "Python 3",
   "language": "python",
   "name": "python3"
  },
  "language_info": {
   "codemirror_mode": {
    "name": "ipython",
    "version": 3
   },
   "file_extension": ".py",
   "mimetype": "text/x-python",
   "name": "python",
   "nbconvert_exporter": "python",
   "pygments_lexer": "ipython3",
   "version": "3.6.6"
  }
 },
 "nbformat": 4,
 "nbformat_minor": 2
}
